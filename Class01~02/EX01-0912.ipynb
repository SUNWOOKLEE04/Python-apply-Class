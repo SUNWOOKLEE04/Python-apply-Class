{
 "cells": [
  {
   "cell_type": "markdown",
   "id": "9fac55b6-2052-4ff6-a6d7-8bbe9974c3bf",
   "metadata": {},
   "source": [
    "# 날짜 : 25.09.12\n",
    "## 개발자 : 이선욱\n",
    "#### 내용 주제 : 01 ~ 02 장 수업\n",
    "#### 성찰내용 : 파이썬을 배웠다고 생각했는데, 각 플랫폼별 특징이나 사용법, 설정 등을 모르는 게 많았다. 성실히 수업에 참여하여 비어있거나 까먹었던 개념들을 채워가며 최대한 이해하려 노력했다. 특히 변수 선언, 자료형, 입출력 처리 방식 등 기본 개념들을 다시 복습할 수 있어서 좋았다. 앞으로는 단순히 코드를 외우는 것이 아니라, 각 기능이 어떤 역할을 하는지 정확히 이해하고 활용하는 데 집중해야겠다는 생각이 들었다.\n",
    "#### 질문: 왜 input().split() 결과에 왜 바로 int()를 적용할 수 없나요?"
   ]
  },
  {
   "cell_type": "code",
   "execution_count": 1,
   "id": "ec1e8f23-ef1f-4b7d-883b-a64ccb56688c",
   "metadata": {},
   "outputs": [
    {
     "name": "stdout",
     "output_type": "stream",
     "text": [
      "a 1.5 + 2.0 = 3.5\n",
      "나의 이름: 홍길동 나의 나이: 22 False\n"
     ]
    }
   ],
   "source": [
    "a=1.5 # 변수는 변수명 = 값 형식으로 사용함\n",
    "b=2.0\n",
    "c= a+b\n",
    "print(\"a\", a, \"+\", b, \"=\", c)\n",
    "print(\"나의 이름:\", \"홍길동\", \"나의 나이:\", 22, False)"
   ]
  },
  {
   "cell_type": "code",
   "execution_count": 2,
   "id": "8e065e85-1ab8-49ac-926a-3a37c8ca7575",
   "metadata": {},
   "outputs": [
    {
     "name": "stdout",
     "output_type": "stream",
     "text": [
      "3 + 4 = 7\n"
     ]
    }
   ],
   "source": [
    "a=3\n",
    "b=4\n",
    "c= a+b\n",
    "print(a, \"+\", b, \"=\", c)"
   ]
  },
  {
   "cell_type": "code",
   "execution_count": 3,
   "id": "a9312b6b-e702-4a99-9f3e-6927c41ec3bf",
   "metadata": {},
   "outputs": [
    {
     "name": "stdout",
     "output_type": "stream",
     "text": [
      "5 5.0 True False 문자 문자열 1~~~\n",
      "2~~~  ##\n",
      "3~~~  1~~~\n",
      "2~~~\n",
      "3~~~ \n",
      "<class 'int'> <class 'float'> <class 'bool'> <class 'bool'> <class 'str'> <class 'str'> <class 'str'> <class 'str'>\n"
     ]
    }
   ],
   "source": [
    "a=5; b=5.0; c=True; d=False\n",
    "\n",
    "e='문자'; f=\"문자열\"\n",
    "g='''1~~~\n",
    "2~~~  ##\n",
    "3~~~ '''\n",
    "h=\"\"\"1~~~\n",
    "2~~~\n",
    "3~~~ \"\"\"\n",
    "# 주석을 중간에 쓰지 말것. 문자열 취급된다.\n",
    "\n",
    "print(a, b, c, d, e, f, g, h)\n",
    "print(type(a),type(b),type(c),type(d),type(e),type(f),type(g),type(h))"
   ]
  },
  {
   "cell_type": "code",
   "execution_count": 4,
   "id": "24d28f0d-1cdf-40d2-99e9-7e631d1b0e79",
   "metadata": {},
   "outputs": [
    {
     "name": "stdin",
     "output_type": "stream",
     "text": [
      " 5\n",
      " 10\n"
     ]
    },
    {
     "name": "stdout",
     "output_type": "stream",
     "text": [
      "10\n",
      "5\n",
      "510\n"
     ]
    },
    {
     "data": {
      "text/plain": [
       "'510'"
      ]
     },
     "execution_count": 4,
     "metadata": {},
     "output_type": "execute_result"
    }
   ],
   "source": [
    "x=input(); y=input()\n",
    "print(y); print(x)\n",
    "print(x+y)\n",
    "x+y # 주피터와 코랩만 됨. 하나의 섹션에 마지막 줄은 프린트 취급"
   ]
  },
  {
   "cell_type": "code",
   "execution_count": 5,
   "id": "920d5ee1-3391-4233-9884-a7de52f01609",
   "metadata": {},
   "outputs": [
    {
     "name": "stdin",
     "output_type": "stream",
     "text": [
      "1번째 정수 데이터를 입력? 10\n",
      "2번째 정수 데이터를 입력? 20\n"
     ]
    },
    {
     "name": "stdout",
     "output_type": "stream",
     "text": [
      "10\n",
      "20\n"
     ]
    },
    {
     "data": {
      "text/plain": [
       "30"
      ]
     },
     "execution_count": 5,
     "metadata": {},
     "output_type": "execute_result"
    }
   ],
   "source": [
    "## a=input()\n",
    "## a= int(a)\n",
    "\n",
    "a= int( input('1번째 정수 데이터를 입력?') ); b= int(input('2번째 정수 데이터를 입력?'))\n",
    "print(a); print(b)\n",
    "a+b"
   ]
  },
  {
   "cell_type": "code",
   "execution_count": 6,
   "id": "fc87fd22-0ce7-4f10-8f07-c24822a73227",
   "metadata": {},
   "outputs": [
    {
     "name": "stdin",
     "output_type": "stream",
     "text": [
      " 5.2\n",
      " 4.5\n"
     ]
    },
    {
     "name": "stdout",
     "output_type": "stream",
     "text": [
      "5.2\n",
      "4.5\n"
     ]
    },
    {
     "data": {
      "text/plain": [
       "9.7"
      ]
     },
     "execution_count": 6,
     "metadata": {},
     "output_type": "execute_result"
    }
   ],
   "source": [
    "a= float(input()); b= float(input())\n",
    "print(a); print(b)\n",
    "a+b"
   ]
  },
  {
   "cell_type": "code",
   "execution_count": 7,
   "id": "98910912-ce9a-454a-a1ee-6090397eb1b9",
   "metadata": {},
   "outputs": [
    {
     "name": "stdin",
     "output_type": "stream",
     "text": [
      " 5.3\n"
     ]
    },
    {
     "name": "stdout",
     "output_type": "stream",
     "text": [
      "i= 0 \t c= 5.3 \n",
      "\n",
      "i= 0 \t c= 5.3 \n",
      "\n",
      "c= 5.3 \t i= 0 \n",
      "\n",
      "끝?i= 1 \t c= 5.3 \n",
      "\n",
      "i= 1 \t c= 5.3 \n",
      "\n",
      "c= 5.3 \t i= 1 \n",
      "\n",
      "끝?i= 2 \t c= 5.3 \n",
      "\n",
      "i= 2 \t c= 5.3 \n",
      "\n",
      "c= 5.3 \t i= 2 \n",
      "\n",
      "끝?끝\n"
     ]
    }
   ],
   "source": [
    "# 시험 나올 수 있음. 둘 다\n",
    "c=input()\n",
    "c=float(c)\n",
    "\n",
    "for i in range(3):\n",
    "    print(\"i=\", i, \"\\t c=\", c, \"\\n\") # 엔터를 치고 싶을때 붙임.\n",
    "    print(\"i= {} \\t c= {} \\n\".format(i,  c))\n",
    "    print(\"c= {1} \\t i= {0} \\n\".format(i,  c))\n",
    "    print(\"끝?\", end='') # 엔터를 안치고 싶을때 붙임.\n",
    "\n",
    "print(\"끝\")"
   ]
  },
  {
   "cell_type": "code",
   "execution_count": 8,
   "id": "6d6859a1-70de-4adf-ac5b-951433d41c6b",
   "metadata": {
    "scrolled": true
   },
   "outputs": [
    {
     "name": "stdin",
     "output_type": "stream",
     "text": [
      " 5\n"
     ]
    },
    {
     "name": "stdout",
     "output_type": "stream",
     "text": [
      "5%\n"
     ]
    }
   ],
   "source": [
    "a=int(input()); print(a, '%', sep='')"
   ]
  },
  {
   "cell_type": "code",
   "execution_count": 9,
   "id": "730c38a3-57f1-4fa3-9ed9-5b606b4324f0",
   "metadata": {},
   "outputs": [
    {
     "name": "stdin",
     "output_type": "stream",
     "text": [
      "수:수로 입력하세요! 12:10\n"
     ]
    },
    {
     "name": "stdout",
     "output_type": "stream",
     "text": [
      "12:10\n",
      "12 \t 10\n"
     ]
    }
   ],
   "source": [
    "# 주로 시간을 입력 받을때 사용한다.\n",
    "a,b = input(\"수:수로 입력하세요!\").split(':'); print(a,b, sep=':')\n",
    "print(a,\"\\t\",b)"
   ]
  },
  {
   "cell_type": "code",
   "execution_count": 10,
   "id": "490a0503-ac2f-4680-a87e-e55f24e53499",
   "metadata": {},
   "outputs": [
    {
     "name": "stdin",
     "output_type": "stream",
     "text": [
      "년-월-일 로 입력하세요 2025-09-12\n"
     ]
    },
    {
     "name": "stdout",
     "output_type": "stream",
     "text": [
      "12/09/2025\n",
      "12 09 2025\n"
     ]
    }
   ],
   "source": [
    "# 주로 날짜를 입력 받을때 사용한다.\n",
    "y,m,d = input(\"년-월-일 로 입력하세요\").split('-')\n",
    "print(d,m,y, sep = '/') # 굳이 구분자를 똑같이 받을 필요는 없음.\n",
    "print(d,m,y)"
   ]
  },
  {
   "cell_type": "code",
   "execution_count": 11,
   "id": "7b69b76b-872a-4e70-8a89-e55f48f0fcc0",
   "metadata": {},
   "outputs": [
    {
     "name": "stdin",
     "output_type": "stream",
     "text": [
      " 5 8\n"
     ]
    },
    {
     "name": "stdout",
     "output_type": "stream",
     "text": [
      "13\n"
     ]
    }
   ],
   "source": [
    "# w1,w2 = int(input()).split() # 에러\n",
    "# w1,w2 = int(input().split()) # 에러\n",
    "# split은 문자에서만 사용가능. int에서는 사용불가.\n",
    "w1,w2 = input().split() # 입력자가 없으면 띄어쓰기로 취급된다.\n",
    "w1 = int(w1)\n",
    "w2 = int(w2)\n",
    "s = w1 + w2\n",
    "print(s)"
   ]
  },
  {
   "cell_type": "code",
   "execution_count": null,
   "id": "1d4cc6d7-3ae8-4e33-8325-1d09708ad0ed",
   "metadata": {},
   "outputs": [],
   "source": []
  }
 ],
 "metadata": {
  "kernelspec": {
   "display_name": "Python 3 (ipykernel)",
   "language": "python",
   "name": "python3"
  },
  "language_info": {
   "codemirror_mode": {
    "name": "ipython",
    "version": 3
   },
   "file_extension": ".py",
   "mimetype": "text/x-python",
   "name": "python",
   "nbconvert_exporter": "python",
   "pygments_lexer": "ipython3",
   "version": "3.13.5"
  }
 },
 "nbformat": 4,
 "nbformat_minor": 5
}
