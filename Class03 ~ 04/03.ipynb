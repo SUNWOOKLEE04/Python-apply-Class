{
 "cells": [
  {
   "cell_type": "markdown",
   "id": "51bca9a4-99b6-432f-9132-dba58bcb4a62",
   "metadata": {},
   "source": [
    "# 날짜 : 25.09.19\n",
    "## 개발자 : 이선욱\n",
    "#### 내용 주제 : 03 ~ 04 장 수업\n",
    "#### 성찰내용 : 연산자가 단순히 계산을 하는 것 이상의 의미를 가지고 있고 우리가 프로그램에서 데이터를 다루는 방식이 결정된다는 사실을 알고, 연산자를 이해하는 것이 프로그램의 효율성과 정확성을 높인다는 사실을 배웠습니다. 이를 통해 연산자를 가볍게 생각하던 생각을 바꾸게 되었고 복습을 열심히 해 잊지 않아야 겠다고 다짐 했습니다.\n",
    "#### 질문: 사용자 입력을 받아 조건에 맞게 처리하는 프로그램을 작성할 때, 예외 처리나 유효성 검사를 어떻게 하는 것이 좋을지에 대한 구체적인 방법이 궁금합니다.\n",
    "\n"
   ]
  },
  {
   "cell_type": "code",
   "execution_count": 1,
   "id": "f4a10180-e52c-4c79-ba5b-24bd7467547b",
   "metadata": {},
   "outputs": [
    {
     "name": "stdin",
     "output_type": "stream",
     "text": [
      "수a수a수a수로 입력해주세요:  1a2a3a4\n"
     ]
    },
    {
     "name": "stdout",
     "output_type": "stream",
     "text": [
      "a = 1 , b = 2 , c = 3 , d = 4 , sum = 10 , avg = 2.5\n"
     ]
    }
   ],
   "source": [
    "# 지난번 수업 질문 답변\n",
    "a, b, c, d = input(\"수a수a수a수로 입력해주세요: \").split('a')\n",
    "# 마지막 A는 뒤에 공백까지 인식하기 떄문에 안적는다.\n",
    "\n",
    "a = int(a)\n",
    "b = int(b)\n",
    "c = int(c)\n",
    "d = int(d)\n",
    "\n",
    "sum = a + b + c + d\n",
    "avg = sum / 4\n",
    "print(\"a = {} , b = {} , c = {} , d = {} , sum = {} , avg = {}\".format(a, b, c, d, sum, avg))"
   ]
  },
  {
   "cell_type": "code",
   "execution_count": 2,
   "id": "88c56983-51c2-46ba-b064-0440325a60ed",
   "metadata": {},
   "outputs": [
    {
     "data": {
      "text/plain": [
       "9"
      ]
     },
     "execution_count": 2,
     "metadata": {},
     "output_type": "execute_result"
    }
   ],
   "source": [
    "# 리스트 맛보기\n",
    "listA = [2,5,6,9]\n",
    "listA[3]\n"
   ]
  },
  {
   "cell_type": "code",
   "execution_count": 3,
   "id": "ee4b5609-8167-4411-a6cf-81dc54a2eb53",
   "metadata": {},
   "outputs": [
    {
     "name": "stdin",
     "output_type": "stream",
     "text": [
      "수a수a수a수 로 입력하세요 1a2a3a4\n"
     ]
    },
    {
     "name": "stdout",
     "output_type": "stream",
     "text": [
      "['1', '2', '3', '4']\n",
      "4\n"
     ]
    },
    {
     "data": {
      "text/plain": [
       "(10, 2.5)"
      ]
     },
     "execution_count": 3,
     "metadata": {},
     "output_type": "execute_result"
    }
   ],
   "source": [
    "listB= input(\"수a수a수a수 로 입력하세요\").split('a')\n",
    "print(listB)\n",
    "print(len(listB))\n",
    "\n",
    "sum = 0\n",
    "for i in listB:\n",
    "    sum += int(i)\n",
    "avg = sum/len(listB)\n",
    "sum,avg\n",
    "\n",
    "# 마지막이 공백이기에 오류\n",
    "\n",
    "# split은 일반적으로 리스트와 함께 씀"
   ]
  },
  {
   "cell_type": "code",
   "execution_count": 4,
   "id": "bcd1f505-7248-4728-a491-c68d5e1d2a40",
   "metadata": {},
   "outputs": [
    {
     "data": {
      "text/plain": [
       "'\\n라이브러리\\n1) 내장형 -> 기본\\nturtle, random, math, ...\\n\\n2) 외장형 -> 별도 설치\\nnumpoy, pandas,Matplotlib,pygame...\\n\\n클래스 / 객체\\n클래스 -> 붕어빵 틀\\n\\n클래스1. 속성(instance) : 성질 (ex. 팥, 색 ...)\\n클래스2. 메서드 : 일(function) (ex. 데워지다, 꺼내지다 ...)\\n\\n객체 -> 틀에서 나온 붕어빵들\\n\\n모든 객체는 클래스로부터 나온다.\\nex. 붕어빵.크기 = 20\\nex. 붕어빵.구워지다(틀)\\n'"
      ]
     },
     "execution_count": 4,
     "metadata": {},
     "output_type": "execute_result"
    }
   ],
   "source": [
    "'''\n",
    "라이브러리\n",
    "1) 내장형 -> 기본\n",
    "turtle, random, math, ...\n",
    "\n",
    "2) 외장형 -> 별도 설치\n",
    "numpoy, pandas,Matplotlib,pygame...\n",
    "\n",
    "클래스 / 객체\n",
    "클래스 -> 붕어빵 틀\n",
    "\n",
    "클래스1. 속성(instance) : 성질 (ex. 팥, 색 ...)\n",
    "클래스2. 메서드 : 일(function) (ex. 데워지다, 꺼내지다 ...)\n",
    "\n",
    "객체 -> 틀에서 나온 붕어빵들\n",
    "\n",
    "모든 객체는 클래스로부터 나온다.\n",
    "ex. 붕어빵.크기 = 20\n",
    "ex. 붕어빵.구워지다(틀)\n",
    "'''"
   ]
  },
  {
   "cell_type": "code",
   "execution_count": 5,
   "id": "b3141c53-8956-4727-909e-6b2c03952973",
   "metadata": {},
   "outputs": [],
   "source": [
    "import random"
   ]
  },
  {
   "cell_type": "code",
   "execution_count": 6,
   "id": "f6f2624f-df21-405c-bd2f-bef8647ce7bc",
   "metadata": {},
   "outputs": [],
   "source": [
    "import random as r # random은 클래스, r은 객체이다."
   ]
  },
  {
   "cell_type": "code",
   "execution_count": 7,
   "id": "cb30f00a-c5c7-4386-bf90-9b4aa81082fc",
   "metadata": {
    "scrolled": true
   },
   "outputs": [
    {
     "data": {
      "text/plain": [
       "0.3572091689870269"
      ]
     },
     "execution_count": 7,
     "metadata": {},
     "output_type": "execute_result"
    }
   ],
   "source": [
    "r.random()"
   ]
  },
  {
   "cell_type": "code",
   "execution_count": 8,
   "id": "1c9c806d-09b4-4295-943a-3c9660825685",
   "metadata": {},
   "outputs": [],
   "source": [
    "r.seed(7) # 7q"
   ]
  },
  {
   "cell_type": "code",
   "execution_count": 9,
   "id": "e7fb90f7-9061-4dcb-bc1b-93301ee7a9e1",
   "metadata": {
    "scrolled": true
   },
   "outputs": [
    {
     "data": {
      "text/plain": [
       "0.32383276483316237"
      ]
     },
     "execution_count": 9,
     "metadata": {},
     "output_type": "execute_result"
    }
   ],
   "source": [
    "r.random()"
   ]
  },
  {
   "cell_type": "code",
   "execution_count": 10,
   "id": "610dcefb-4fce-4b5f-9d26-50ccd1dc43fc",
   "metadata": {
    "scrolled": true
   },
   "outputs": [
    {
     "name": "stdout",
     "output_type": "stream",
     "text": [
      "2 \t4 \t6 \t1 \t1 \t7 \t5 \t1 \t3 \t5 \t1 \t5 \t2 \t1 \t1 \t4 \t4 \t1 \t2 \t1 \t5 \t4 \t1 \t7 \t5 \t1 \t2 \t6 \t6 \t5 \t1 \t5 \t5 \t4 \t1 \t2 \t1 \t5 \t7 \t2 \t3 \t4 \t2 \t5 \t1 \t5 \t3 \t5 \t7 \t6 \t2 \t1 \t5 \t5 \t6 \t2 \t3 \t1 \t5 \t6 \t1 \t5 \t1 \t5 \t2 \t4 \t6 \t5 \t4 \t7 \t3 \t4 \t5 \t4 \t3 \t3 \t2 \t7 \t2 \t6 \t7 \t2 \t1 \t5 \t3 \t5 \t4 \t3 \t6 \t4 \t3 \t5 \t1 \t1 \t5 \t4 \t2 \t7 \t3 \t2 \t"
     ]
    }
   ],
   "source": [
    "for i in range(100):\n",
    "    print(r.randint(1,7),\"\\t\" ,end = '') # randint 같은 경우는 마지막 까지 출력된다."
   ]
  },
  {
   "cell_type": "code",
   "execution_count": 11,
   "id": "8e810988-6e2b-4b1a-9845-934837ddc6f3",
   "metadata": {},
   "outputs": [
    {
     "data": {
      "text/plain": [
       "'4'"
      ]
     },
     "execution_count": 11,
     "metadata": {},
     "output_type": "execute_result"
    }
   ],
   "source": [
    "r.choice(listB)"
   ]
  },
  {
   "cell_type": "code",
   "execution_count": 12,
   "id": "e4bdb825-d38c-41d5-bf35-aa74f106a1ac",
   "metadata": {},
   "outputs": [
    {
     "data": {
      "text/plain": [
       "['2', '3', '1', '4']"
      ]
     },
     "execution_count": 12,
     "metadata": {},
     "output_type": "execute_result"
    }
   ],
   "source": [
    "r.shuffle(listB)\n",
    "listB"
   ]
  },
  {
   "cell_type": "code",
   "execution_count": 13,
   "id": "a4c09544-1545-4ae4-9144-50b4b8ea69e2",
   "metadata": {},
   "outputs": [
    {
     "name": "stdout",
     "output_type": "stream",
     "text": [
      "5 \t5 \t3 \t3 \t5 \t3 \t5 \t3 \t5 \t3 \t1 \t1 \t3 \t3 \t5 \t5 \t1 \t1 \t5 \t5 \t3 \t5 \t5 \t5 \t3 \t3 \t5 \t3 \t5 \t3 \t1 \t3 \t3 \t1 \t5 \t1 \t3 \t1 \t1 \t3 \t1 \t5 \t1 \t3 \t3 \t3 \t1 \t1 \t3 \t3 \t5 \t3 \t1 \t3 \t5 \t3 \t5 \t3 \t3 \t5 \t3 \t1 \t1 \t1 \t1 \t1 \t1 \t5 \t1 \t1 \t3 \t5 \t1 \t3 \t3 \t1 \t1 \t3 \t5 \t3 \t5 \t5 \t3 \t1 \t5 \t5 \t5 \t5 \t5 \t5 \t1 \t3 \t5 \t5 \t3 \t3 \t3 \t3 \t1 \t3 \t"
     ]
    }
   ],
   "source": [
    "for i in range(100):\n",
    "    print(r.randrange(1,7,2),\"\\t\" ,end = '')"
   ]
  },
  {
   "cell_type": "code",
   "execution_count": 14,
   "id": "09b4bb80-7548-4412-b0bf-cbba30e458f2",
   "metadata": {},
   "outputs": [
    {
     "name": "stdout",
     "output_type": "stream",
     "text": [
      "4 \t1 \t1 \t1 \t1 \t4 \t1 \t1 \t4 \t1 \t1 \t1 \t1 \t1 \t4 \t1 \t1 \t1 \t4 \t1 \t4 \t4 \t4 \t4 \t1 \t1 \t4 \t4 \t4 \t4 \t4 \t1 \t1 \t1 \t4 \t4 \t4 \t1 \t1 \t1 \t4 \t1 \t1 \t4 \t1 \t4 \t4 \t1 \t4 \t1 \t4 \t1 \t1 \t1 \t4 \t1 \t1 \t4 \t4 \t1 \t1 \t4 \t4 \t4 \t1 \t4 \t4 \t4 \t4 \t1 \t1 \t1 \t1 \t4 \t1 \t4 \t1 \t4 \t1 \t4 \t4 \t1 \t1 \t4 \t1 \t4 \t1 \t4 \t4 \t1 \t4 \t4 \t4 \t1 \t1 \t1 \t1 \t1 \t1 \t4 \t"
     ]
    }
   ],
   "source": [
    "for i in range(100):\n",
    "    print(r.randrange(1,7,3),\"\\t\" ,end = '')"
   ]
  },
  {
   "cell_type": "markdown",
   "id": "5d9e8ace-0d75-4cfd-a68e-72f3018b3d8b",
   "metadata": {},
   "source": [
    "## 3장:연산자"
   ]
  },
  {
   "cell_type": "markdown",
   "id": "b5db28bf-2644-4156-9e7b-78d61bf19d58",
   "metadata": {},
   "source": [
    "#### 연습문제 3.1 (변형)\n"
   ]
  },
  {
   "cell_type": "code",
   "execution_count": 15,
   "id": "a82a9335-7e6a-4677-ba01-ca14c8d7ba6f",
   "metadata": {},
   "outputs": [
    {
     "name": "stdout",
     "output_type": "stream",
     "text": [
      "a  n  a**n\n",
      "2  2  4\n",
      "3  2  9\n",
      "4  2  16\n",
      "5  2  25\n",
      "6  2  36\n"
     ]
    }
   ],
   "source": [
    "print('a','','n','','a**n')\n",
    "for a in range(1,6):\n",
    "    a+=1\n",
    "    n=2\n",
    "    print(a,'',n,'',a**n)"
   ]
  },
  {
   "cell_type": "markdown",
   "id": "913889bc-9318-47de-9539-7b7329a3e2da",
   "metadata": {},
   "source": [
    "#### 연습문제 3.2"
   ]
  },
  {
   "cell_type": "code",
   "execution_count": 16,
   "id": "4a13bfc8-5aa7-45b2-adf8-e4faa026a393",
   "metadata": {},
   "outputs": [
    {
     "name": "stdout",
     "output_type": "stream",
     "text": [
      "2 의 제곱근= 1.4142135623730951\n",
      "3 의 제곱근= 1.7320508075688772\n",
      "4 의 제곱근= 2.0\n",
      "5 의 제곱근= 2.23606797749979\n",
      "6 의 제곱근= 2.449489742783178\n",
      "7 의 제곱근= 2.6457513110645907\n",
      "8 의 제곱근= 2.8284271247461903\n",
      "9 의 제곱근= 3.0\n",
      "10 의 제곱근= 3.1622776601683795\n"
     ]
    }
   ],
   "source": [
    "import math\n",
    "\n",
    "for a in range(1,10):\n",
    "    a+=1\n",
    "    print(a,'의 제곱근=',math.pow(a,1/2))"
   ]
  },
  {
   "cell_type": "markdown",
   "id": "67c8afee-6e73-4be4-940e-50fd46a737fe",
   "metadata": {},
   "source": [
    "#### 연습문제 3.3"
   ]
  },
  {
   "cell_type": "code",
   "execution_count": 17,
   "id": "ed1e27a7-dbd9-4d04-81b2-1e9091395761",
   "metadata": {},
   "outputs": [
    {
     "name": "stdout",
     "output_type": "stream",
     "text": [
      "2 4 8 16 32 64 128 256 512 1024 "
     ]
    }
   ],
   "source": [
    "for i in range(10):\n",
    "    print(2 << i, end=\" \")"
   ]
  },
  {
   "cell_type": "code",
   "execution_count": null,
   "id": "97241333-5b51-4899-b0bb-1f2b473226ca",
   "metadata": {},
   "outputs": [],
   "source": []
  }
 ],
 "metadata": {
  "kernelspec": {
   "display_name": "Python 3 (ipykernel)",
   "language": "python",
   "name": "python3"
  },
  "language_info": {
   "codemirror_mode": {
    "name": "ipython",
    "version": 3
   },
   "file_extension": ".py",
   "mimetype": "text/x-python",
   "name": "python",
   "nbconvert_exporter": "python",
   "pygments_lexer": "ipython3",
   "version": "3.13.5"
  }
 },
 "nbformat": 4,
 "nbformat_minor": 5
}
