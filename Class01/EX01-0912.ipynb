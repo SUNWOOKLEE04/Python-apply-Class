{
 "cells": [
  {
   "cell_type": "markdown",
   "id": "9fac55b6-2052-4ff6-a6d7-8bbe9974c3bf",
   "metadata": {},
   "source": [
    "# 날짜 : 25.09.12\n",
    "## 개발자 : 이선욱\n",
    "#### 내용 주제 : 주피터 입문"
   ]
  },
  {
   "cell_type": "code",
   "execution_count": 2,
   "id": "ec1e8f23-ef1f-4b7d-883b-a64ccb56688c",
   "metadata": {},
   "outputs": [
    {
     "name": "stdout",
     "output_type": "stream",
     "text": [
      "a 1.5 + 2.0 = 3.5\n",
      "나의 이름: 홍길동 나의 나이: 22 False\n"
     ]
    }
   ],
   "source": [
    "a=1.5 # 변수는 변수명 = 값 형식으로 사용함\n",
    "b=2.0\n",
    "c= a+b\n",
    "print(\"a\", a, \"+\", b, \"=\", c)\n",
    "print(\"나의 이름:\", \"홍길동\", \"나의 나이:\", 22, False)"
   ]
  },
  {
   "cell_type": "code",
   "execution_count": 3,
   "id": "8e065e85-1ab8-49ac-926a-3a37c8ca7575",
   "metadata": {},
   "outputs": [
    {
     "name": "stdout",
     "output_type": "stream",
     "text": [
      "3 + 4 = 7\n"
     ]
    }
   ],
   "source": [
    "a=3\n",
    "b=4\n",
    "c= a+b\n",
    "print(a, \"+\", b, \"=\", c)"
   ]
  },
  {
   "cell_type": "code",
   "execution_count": 8,
   "id": "a9312b6b-e702-4a99-9f3e-6927c41ec3bf",
   "metadata": {},
   "outputs": [
    {
     "name": "stdout",
     "output_type": "stream",
     "text": [
      "5 5.0 True False 문자 문자열 1~~~\n",
      "2~~~  ##\n",
      "3~~~  1~~~\n",
      "2~~~\n",
      "3~~~ \n",
      "<class 'int'> <class 'float'> <class 'bool'> <class 'bool'> <class 'str'> <class 'str'> <class 'str'> <class 'str'>\n"
     ]
    }
   ],
   "source": [
    "a=5; b=5.0; c=True; d=False\n",
    "e='문자'; f=\"문자열\"\n",
    "g='''1~~~\n",
    "2~~~  ##\n",
    "3~~~ '''\n",
    "h=\"\"\"1~~~\n",
    "2~~~\n",
    "3~~~ \"\"\"\n",
    "print(a, b, c, d, e, f, g, h)\n",
    "print(type(a),type(b),type(c),type(d),type(e),type(f),type(g),type(h))"
   ]
  },
  {
   "cell_type": "code",
   "execution_count": null,
   "id": "920d5ee1-3391-4233-9884-a7de52f01609",
   "metadata": {},
   "outputs": [],
   "source": []
  }
 ],
 "metadata": {
  "kernelspec": {
   "display_name": "Python 3 (ipykernel)",
   "language": "python",
   "name": "python3"
  },
  "language_info": {
   "codemirror_mode": {
    "name": "ipython",
    "version": 3
   },
   "file_extension": ".py",
   "mimetype": "text/x-python",
   "name": "python",
   "nbconvert_exporter": "python",
   "pygments_lexer": "ipython3",
   "version": "3.13.5"
  }
 },
 "nbformat": 4,
 "nbformat_minor": 5
}
